{
 "metadata": {
  "name": "hw06_kiripolsky_p.ipynb"
 },
 "nbformat": 3,
 "nbformat_minor": 0,
 "worksheets": [
  {
   "cells": [
    {
     "cell_type": "heading",
     "level": 1,
     "metadata": {},
     "source": [
      "US Energy: Boom or Bust?"
     ]
    },
    {
     "cell_type": "heading",
     "level": 2,
     "metadata": {},
     "source": [
      "Observing the trends and data of the US Energy Sector"
     ]
    },
    {
     "cell_type": "heading",
     "level": 3,
     "metadata": {},
     "source": [
      "By Paul Kiripolsky"
     ]
    },
    {
     "cell_type": "heading",
     "level": 5,
     "metadata": {},
     "source": [
      "At the turn of the Century, the US was decisively a major consumer in the energy sector and yet, 14 years later it is poised to become a Global  energy producer thanks to a renewed interest in domestic fosil fuel supplies as well as a growing renewable and or carbon neutral energy sector.  But just how has this influx of \"new\" energy affected the energy sector and does this current upswing fall within the norms of past consumption cycles, or does it break with previous trends?  \n",
      "\n",
      "  "
     ]
    },
    {
     "cell_type": "heading",
     "level": 5,
     "metadata": {},
     "source": [
      "Analyzing data going as far back as 1949, we'll be able to look at the growth cycles of the energy sector for a multitude of energy sources ranging from coal, oil, natual gas, nuclear power, renewable sources, etc.  In addition to growth cycles, we will also be able to see the consumption rates and cylces for these various resources going just as far back as well.  There is also one other aspect of the energy sector that will be explored and that aspect is electrical generation and consumption. Specifically, electrical generation and consumption will be looked at throughout most sectors of the US economy (agricultural, comercial, industrial, etc.)"
     ]
    },
    {
     "cell_type": "heading",
     "level": 5,
     "metadata": {},
     "source": [
      "These data sets come from http://www.eia.gov/"
     ]
    },
    {
     "cell_type": "code",
     "collapsed": false,
     "input": [],
     "language": "python",
     "metadata": {},
     "outputs": []
    }
   ],
   "metadata": {}
  }
 ]
}